{
  "nbformat": 4,
  "nbformat_minor": 0,
  "metadata": {
    "colab": {
      "name": "python_assignment_2.ipynb",
      "provenance": []
    },
    "kernelspec": {
      "name": "python3",
      "display_name": "Python 3"
    }
  },
  "cells": [
    {
      "cell_type": "markdown",
      "metadata": {
        "id": "zHju-zj3D679"
      },
      "source": [
        "answer of question 1"
      ]
    },
    {
      "cell_type": "code",
      "metadata": {
        "id": "C2wZt4d0BKxn",
        "outputId": "08d9b64c-1f8f-4ae5-8cfe-c0643c1a625a",
        "colab": {
          "base_uri": "https://localhost:8080/",
          "height": 187
        }
      },
      "source": [
        "n = int(input(\"Enter the height of triangle:\"))\n",
        "for i in range(0,n):\n",
        "  print(\"* \" * (i+1) )\n",
        "for i in range(0,n-1):\n",
        "  print(\"* \" * (n-i-1))"
      ],
      "execution_count": 6,
      "outputs": [
        {
          "output_type": "stream",
          "text": [
            "Enter the height of triangle:5\n",
            "* \n",
            "* * \n",
            "* * * \n",
            "* * * * \n",
            "* * * * * \n",
            "* * * * \n",
            "* * * \n",
            "* * \n",
            "* \n"
          ],
          "name": "stdout"
        }
      ]
    },
    {
      "cell_type": "markdown",
      "metadata": {
        "id": "6ezqS3osDXmd"
      },
      "source": [
        "answer of question 2"
      ]
    },
    {
      "cell_type": "code",
      "metadata": {
        "id": "Rb-sxJwnDbTk",
        "outputId": "4affe30f-3448-4f54-e8c9-e3e7a71beb6f",
        "colab": {
          "base_uri": "https://localhost:8080/",
          "height": 51
        }
      },
      "source": [
        "word = input(\"Enter any word:\")\n",
        "print(word[::-1])"
      ],
      "execution_count": 1,
      "outputs": [
        {
          "output_type": "stream",
          "text": [
            "Enter any word:ineuron\n",
            "norueni\n"
          ],
          "name": "stdout"
        }
      ]
    }
  ]
}
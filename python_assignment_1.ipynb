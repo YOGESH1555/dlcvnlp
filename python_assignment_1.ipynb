{
  "nbformat": 4,
  "nbformat_minor": 0,
  "metadata": {
    "colab": {
      "name": "assignment_1.ipynb",
      "provenance": [],
      "collapsed_sections": []
    },
    "kernelspec": {
      "name": "python3",
      "display_name": "Python 3"
    }
  },
  "cells": [
    {
      "cell_type": "code",
      "metadata": {
        "id": "HMQHEEucWFxa",
        "outputId": "56fb7440-8bab-4948-cdc9-0b920518904d",
        "colab": {
          "base_uri": "https://localhost:8080/",
          "height": 54
        }
      },
      "source": [
        "l = list(range(2000,3201))\n",
        "m = []\n",
        "for i in l:\n",
        "  if i % 7 == 0 :\n",
        "    if i % 5 != 0 :\n",
        "      m.append(i)\n",
        "for i in m:\n",
        "  print(i,end = ',')     "
      ],
      "execution_count": 2,
      "outputs": [
        {
          "output_type": "stream",
          "text": [
            "2002,2009,2016,2023,2037,2044,2051,2058,2072,2079,2086,2093,2107,2114,2121,2128,2142,2149,2156,2163,2177,2184,2191,2198,2212,2219,2226,2233,2247,2254,2261,2268,2282,2289,2296,2303,2317,2324,2331,2338,2352,2359,2366,2373,2387,2394,2401,2408,2422,2429,2436,2443,2457,2464,2471,2478,2492,2499,2506,2513,2527,2534,2541,2548,2562,2569,2576,2583,2597,2604,2611,2618,2632,2639,2646,2653,2667,2674,2681,2688,2702,2709,2716,2723,2737,2744,2751,2758,2772,2779,2786,2793,2807,2814,2821,2828,2842,2849,2856,2863,2877,2884,2891,2898,2912,2919,2926,2933,2947,2954,2961,2968,2982,2989,2996,3003,3017,3024,3031,3038,3052,3059,3066,3073,3087,3094,3101,3108,3122,3129,3136,3143,3157,3164,3171,3178,3192,3199,"
          ],
          "name": "stdout"
        }
      ]
    },
    {
      "cell_type": "code",
      "metadata": {
        "id": "6R4KMzQgYCnU",
        "outputId": "f5cc2cdf-57a4-4c8c-d86f-6e60a78211ca",
        "colab": {
          "base_uri": "https://localhost:8080/",
          "height": 68
        }
      },
      "source": [
        "first_name = input(\"Enter your First name : \")\n",
        "last_name = input(\"Enter your First name : \")\n",
        "print(\"your name in revrse order:\",first_name[::-1],last_name[::-1])"
      ],
      "execution_count": 3,
      "outputs": [
        {
          "output_type": "stream",
          "text": [
            "Enter your First name : yogesh\n",
            "Enter your First name : patel\n",
            "your name in revrse order: hsegoy letap\n"
          ],
          "name": "stdout"
        }
      ]
    },
    {
      "cell_type": "code",
      "metadata": {
        "id": "jesGTv2mYLaJ",
        "outputId": "da5204cb-3118-45dc-bd10-199c126823cf",
        "colab": {
          "base_uri": "https://localhost:8080/",
          "height": 51
        }
      },
      "source": [
        "a = input(\"Enter the diameter of sphere (in cm.) :\")\n",
        "print(\"volume of the sphere is\",((int(a)/2)**3)*(4/3)*(22/7),\"cm.cube\")"
      ],
      "execution_count": 7,
      "outputs": [
        {
          "output_type": "stream",
          "text": [
            "Enter the diameter of sphere (in cm.) :12\n",
            "volume of the sphere is 905.1428571428571 cm.cube\n"
          ],
          "name": "stdout"
        }
      ]
    }
  ]
}